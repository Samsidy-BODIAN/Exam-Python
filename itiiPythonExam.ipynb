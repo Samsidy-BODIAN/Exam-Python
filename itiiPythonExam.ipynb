{
 "cells": [
  {
   "cell_type": "markdown",
   "metadata": {},
   "source": [
    "# Devoir Python\n",
    "\n",
    "Vous devez rendre votre devoir sur GitHub.\n",
    "Vous avez le droit a tout vos documents et a internet\n",
    "\n",
    "1. votre depot doit etre privé\n",
    "2. vous devez inviter comme colaborateur votre chargé de TD/TP\n",
    "3. Seul le dernier commit avant la fin de la séance sera corrigé.\n"
   ]
  },
  {
   "cell_type": "markdown",
   "metadata": {},
   "source": [
    "Ex 1: Integrale de Romberg\n",
    "\n",
    "Ecrire une fonction integ_romberg(f, a, b, epsilon=1e-6) permettant de calculer l’intégrale numérique de la fonction f entre les bornes a et b avec une précision epsilon selon la méthode de Romberg (https://fr.wikipedia.org/wiki/M%C3%A9thode_de_Romberg).\n",
    "\n",
    "Il s’agit d’une méthode qui permet d’améliorer les méthodes usuelles de calcul numérique des intégrales, comme la méthode des Trapèzes.\n",
    "On montre qu’en combinant judicieusement les valeurs obtenues par la méthode des Trapèzes pour différentes subdivisons de l’intervalle d’intégration, on augmente l’ordre de convergence (sa vitesse de convergence). \n"
   ]
  },
  {
   "cell_type": "code",
   "execution_count": 1,
   "metadata": {},
   "outputs": [
    {
     "name": "stdout",
     "output_type": "stream",
     "text": [
      "0.7468240184822817 8 1\n"
     ]
    },
    {
     "data": {
      "text/plain": [
       "(0.7468240184822817, 8, 1)"
      ]
     },
     "execution_count": 1,
     "metadata": {},
     "output_type": "execute_result"
    }
   ],
   "source": [
    "import numpy as np\n",
    "import matplotlib.pyplot as plt\n",
    "\n",
    "\n",
    "def f(x):\n",
    "   f = np.exp(-x*x)\n",
    "   return f;\n",
    "\n",
    "\n",
    "# régle pour le trapèze\n",
    "def trapezoid(f,a,b,N):\n",
    "    h   = (b-a)/N\n",
    "    xi  = np.linspace(a,b,N+1)\n",
    "    fi  = f(xi)\n",
    "    s   = 0.0\n",
    "    for i in range(1,N):\n",
    "        s = s + fi[i]\n",
    "    s = (h/2)*(fi[0] + fi[N]) + h*s\n",
    "    return s\n",
    "\n",
    "# la fonction romberg\n",
    "def integ_romberg(f,a,b,eps,nmax):\n",
    "# f     ... la fonction à intégré\n",
    "# [a,b] ... intervalle de l'intégration\n",
    "# eps   ... desired accuracy\n",
    "# nmax  ... nmax pour la methode de Romberg\n",
    "    Q         = np.zeros((nmax,nmax),float)\n",
    "    converged = 0\n",
    "    for i in range(0,nmax):\n",
    "        N      = 2**i\n",
    "        Q[i,0] = trapezoid(f,a,b,N)\n",
    "        for k in range(0,i):\n",
    "            n        = k + 2\n",
    "            Q[i,k+1] = 1.0/(4**(n-1)-1)*(4**(n-1)*Q[i,k] - Q[i-1,k])\n",
    "        if (i > 0):\n",
    "            if (abs(Q[i,k+1] - Q[i,k]) < eps):\n",
    "               converged = 1\n",
    "               break\n",
    "    print(Q[i,k+1],N,converged)   \n",
    "    return Q[i,k+1],N,converged\n",
    "\n",
    "# programme dans le main\n",
    "a  = 0.0;b = 1.0  # intervalle d'intégration[a,b]\n",
    "integ_romberg(f,a,b,1e-6,10)\n"
   ]
  },
  {
   "cell_type": "markdown",
   "metadata": {},
   "source": [
    "Ex 2: Équation d’état de l’eau à partir de la dynamique moléculaire\n",
    "\n",
    "Afin de modéliser les planètes de type Jupiter, Saturne, ou même des exo-planètes très massives (dites « super-Jupiters »), la connaissance de l’équation d’état des composants est nécessaire. Ces équations d’état doivent être valables jusqu’à plusieurs centaines de méga-bar ; autrement dit, celles-ci ne sont en aucun cas accessibles expérimentalement. On peut cependant obtenir une équation d’état numériquement à partir d’une dynamique moléculaire.\n",
    "\n",
    "Le principe est le suivant : on place dans une boite un certain nombre de particules régies par les équations microscopiques (Newton par exemple, ou même par des équations prenant en considération la mécanique quantique) puis on laisse celles-ci évoluer dans la boite ; on calcule à chaque pas de temps l’énergie interne à partir des intéractions électrostatiques et la pression à partir du tenseur des contraintes. On obtient en sortie l’évolution du système pour une densité fixée (par le choix de taille de la boite) et une température fixée (par un algorithme de thermostat que nous ne détaillerons pas ici).\n",
    "\n",
    "On se propose d’analyser quelques fichiers de sortie de tels calculs pour l’équation d’état de l’eau à très haute pression. Les fichiers de sortie sont disponibles ici; leur nom indique les conditions thermodynamiques correspondant au fichier, p.ex. 6000K_30gcc.out pour T=6000\n",
    "K et ρ=30 gcc. Le but est, pour chaque condition température-densité, d’extraire l’évolution de l’énergie et de la pression au cours du temps, puis d’en extraire la valeur moyenne ainsi que les fluctuations. Il arrive souvent que l’état initial choisi pour le système ne corresponde pas à son état d’équilibre, et qu’il faille donc « jeter » les quelques pas de temps en début de simulation qui correspondent à cette relaxation du système. Pour savoir combien de temps prend cette relaxation, il sera utile de tracer l’évolution au cours du temps de la pression et l’énergie pour quelques simulations. Une fois l’équation d’état P(ρ,T) et E(ρ,T) extraite, on pourra tracer le réseau d’isothermes."
   ]
  },
  {
   "cell_type": "code",
   "execution_count": 4,
   "metadata": {},
   "outputs": [
    {
     "data": {
      "image/png": "[encoded data removed]",
      "text/plain": [
       "<Figure size 432x288 with 2 Axes>"
      ]
     },
     "metadata": {
      "needs_background": "light"
     },
     "output_type": "display_data"
    }
   ],
   "source": [
    "\n",
    "#Équation d’état de l’eau\n",
    "\n",
    "import numpy as N\n",
    "import matplotlib.pyplot as P\n",
    "\n",
    "import pytest                    # pytest importe pour les tests unitaires\n",
    "\n",
    "\"\"\"\n",
    "Construction d'un système d'extraction et d'analyse de fichiers de sortie de\n",
    "dynamique moléculaire afin d'extraire les grandeurs thermodynamiques.\n",
    "On affichera les ensuite isothermes.\n",
    "\"\"\"\n",
    "\n",
    "__author__ = \"Adrien Licari <adrien.licari@ens-lyon.fr>\"\n",
    "\n",
    "\n",
    "tolerance = 1e-8  # Un seuil de tolérance pour les égalités sur réels\n",
    "\n",
    "\n",
    "#Partie simulation#\n",
    "\n",
    "\n",
    "class Simulation:\n",
    "    \"\"\"\n",
    "    La classe Simulation représente une simulation de dynamique\n",
    "    moléculaire, donc un point de l'équation d'état. Son constructeur\n",
    "    doit impérativement être appelé avec le chemin du fichier output\n",
    "    correspondant. Elle possède des méthodes pour extraire les grandeurs\n",
    "    thermodynamiques et afficher la run, en pouvant enlever certains pas\n",
    "    de temps en début de simulation.\n",
    "    \"\"\"\n",
    "\n",
    "    def __init__(self, temp, dens, path):\n",
    "        \"\"\"\n",
    "        Le constructeur doit impérativement être appelé avec le chemin du\n",
    "        fichier décrivant la simulation, ainsi que ses conditions\n",
    "        thermodynamiques.\n",
    "\n",
    "        Args :\n",
    "                temp,dens(float): La température et la densité de la simulation\n",
    "                path(string): Le chemin vers le fichier décrivant la simulation\n",
    "\n",
    "        Raises :\n",
    "                TypeError si temp ou dens ne sont pas des réels\n",
    "                IOError si le fichier n'existe pas\n",
    "        \"\"\"\n",
    "        self.temp = float(temp)\n",
    "        self.dens = float(dens)\n",
    "        tmp = N.loadtxt(path, skiprows=1).T\n",
    "        self.pot = tmp[0]\n",
    "        self.kin = tmp[1]\n",
    "        self.tot = self.pot + self.kin\n",
    "        self.press = tmp[2]\n",
    "\n",
    "    def __str__(self):\n",
    "        \"\"\"\n",
    "        Surcharge de l'opérateur str.\n",
    "        \"\"\"\n",
    "        return \"Simulation at {:.0f} g/cc and {:.0f} K ; {:d} timesteps\". \\\n",
    "            format(self.dens, self.temp, len(self.pot))\n",
    "\n",
    "    def thermo(self, skipSteps=0):\n",
    "        \"\"\"\n",
    "        Calcule l'énergie et la pression moyenne au cours de la simulation.\n",
    "        Renvoie un dictionnaire.\n",
    "\n",
    "        Args:\n",
    "                skipSteps(int): Représente le nombre de pas à enlever en début de simulation.\n",
    "\n",
    "        Returns:\n",
    "                {'T':temperature, 'rho':density,\n",
    "                 'E':energy, 'P':pressure,\n",
    "                 'dE':dEnergy, 'dP':dPressure}\n",
    "        \"\"\"\n",
    "        return {'T': self.temp,\n",
    "                'rho': self.dens,\n",
    "                'E': self.tot[skipSteps:].mean(),\n",
    "                'P': self.press[skipSteps:].mean(),\n",
    "                'dE': self.tot[skipSteps:].std(),\n",
    "                'dP': self.press[skipSteps:].std()}\n",
    "\n",
    "    def plot(self, skipSteps=0):\n",
    "        \"\"\"\n",
    "        Affiche l'évolution de la Pression et de l'énergie interne au cours de\n",
    "        la simulation.\n",
    "\n",
    "        Args:\n",
    "                skipSteps(int): Pas de temps à enelevr en début de simulation.\n",
    "\n",
    "        Raises:\n",
    "                TypeError si skipSteps n'est pas un entier.\n",
    "        \"\"\"\n",
    "        fig, (axen, axpress) = P.subplots(2, sharex=True)\n",
    "        axen.plot(list(range(skipSteps, len(self.tot))), self.tot[skipSteps:],\n",
    "                  'rd--')\n",
    "        axen.set_title(\"Internal energy (Ha)\")\n",
    "        axpress.plot(list(range(skipSteps, len(self.press))), self.press[skipSteps:],\n",
    "                     'rd--')\n",
    "        axpress.set_title(\"Pressure (GPa)\")\n",
    "        axpress.set_xlabel(\"Timesteps\")\n",
    "\n",
    "        P.show()\n",
    "\n",
    "##### Tests pour Simulation #####\n",
    "\n",
    "\n",
    "def mimic_simulation(filename):\n",
    "    with open(filename, 'w') as f:\n",
    "        f.write(\"\"\"Potential energy (Ha)\tKinetic Energy (Ha)\tPressure (GPa)\n",
    "-668.2463567264        \t0.7755612311   \t\t9287.7370229824\n",
    "-668.2118514558        \t0.7755612311\t\t9286.1395903265\n",
    "-668.3119088218        \t0.7755612311\t\t9247.6604398856\n",
    "-668.4762735176        \t0.7755612311\t\t9191.8574820856\n",
    "-668.4762735176        \t0.7755612311\t\t9191.8574820856\n",
    "\"\"\")\n",
    "\n",
    "\n",
    "def test_Simulation_init():\n",
    "    mimic_simulation(\"equationEtat_simuTest.out\")\n",
    "    s = Simulation(10, 10, \"equationEtat_simuTest.out\")\n",
    "    assert len(s.kin) == 5\n",
    "    assert abs(s.kin[2] - 0.7755612311) < tolerance\n",
    "    assert abs(s.pot[1] + 668.2118514558) < tolerance\n",
    "\n",
    "\n",
    "def test_Simulation_str():\n",
    "    mimic_simulation(\"equationEtat_simuTest.out\")\n",
    "    s = Simulation(10, 20, \"equationEtat_simuTest.out\")\n",
    "    assert str(s) == \"Simulation at 20 g/cc and 10 K ; 5 timesteps\"\n",
    "\n",
    "\n",
    "def test_Simulation_thermo():\n",
    "    mimic_simulation(\"equationEtat_simuTest.out\")\n",
    "    s = Simulation(10, 20, \"equationEtat_simuTest.out\")\n",
    "    assert abs(s.thermo()['T'] - 10) < tolerance\n",
    "    assert abs(s.thermo()['rho'] - 20) < tolerance\n",
    "    assert abs(s.thermo()['E'] + 667.56897157674) < tolerance\n",
    "    assert abs(s.thermo()['P'] - 9241.0504034731) < tolerance\n",
    "    assert abs(s.thermo(3)['E'] + 667.7007122865) < tolerance\n",
    "    assert abs(s.thermo(3)['P'] - 9191.8574820856) < tolerance\n",
    "\n",
    "###################\n",
    "### Main script ###\n",
    "###################\n",
    "\n",
    "if __name__ == '__main__':\n",
    "    \"\"\"\n",
    "    On définit un certain nombre de pas de temps à sauter, puis on\n",
    "    charge chaque simulation et extrait les informaions thermodynamiques\n",
    "    associées. On affiche enfin les isothermes normalisées (E/NkT et P/nkT).\n",
    "    \"\"\"\n",
    "\n",
    "    ### Definitions ###\n",
    "    a0 = 0.52918      # Bohr radius in angstrom\n",
    "    amu = 1.6605      # atomic mass unit in e-24 g\n",
    "    k_B = 3.16681e-6  # Boltzmann's constant in Ha/K\n",
    "    # normalization factor for P/nkT\n",
    "    nk_GPa = a0 ** 3 * k_B * 2.942e4 / 6 / amu\n",
    "    nsteps = 200  # define skipped timesteps (should be done for\n",
    "    # each simulation...)\n",
    "    temps = [6000, 20000, 50000]    # define temperatures\n",
    "    colors = {6000: 'r', 20000: 'b', 50000: 'k'}\n",
    "    denss = [7, 15, 25, 30]  # define densities\n",
    "    keys = ['T', 'rho', 'E', 'dE', 'P', 'dP']\n",
    "    eos = dict.fromkeys(keys, N.zeros(0))   # {key:[]}\n",
    "\n",
    "    ### Extract the EOS out of the source files ###\n",
    "    for t, rho in [(t, rho) for t in temps for rho in denss]:\n",
    "        filenm = \"outputs/{}K_{:0>2d}gcc.out\".format(t, rho)\n",
    "        s = Simulation(t, rho, filenm)\n",
    "        for key in keys:\n",
    "            eos[key] = N.append(eos[key], s.thermo(nsteps)[key])\n",
    "\n",
    "    ### Plot isotherms ###\n",
    "    fig, (axen, axpress) = P.subplots(2, sharex=True)\n",
    "    fig.suptitle(\"Équation d'état de l'eau pour une haute pression\", size='x-large')\n",
    "    axen.set_title(\"Energie\")\n",
    "    axen.set_ylabel(\"U / NkT\")\n",
    "    axpress.set_title(\"Pression\")\n",
    "    axpress.set_ylabel(\"P / nkT\")\n",
    "    axpress.set_xlabel(\"rho (g/cc)\")\n",
    "    for t in temps:\n",
    "        sel = eos['T'] == t\n",
    "        axen.errorbar(x=eos['rho'][sel], y=eos['E'][sel] / k_B / t,\n",
    "                      yerr=eos['dE'][sel] / k_B / t, fmt=colors[t] + '-')\n",
    "        axpress.errorbar(x=eos['rho'][sel],\n",
    "                         y=eos['P'][sel] / eos['rho'][sel] / nk_GPa / t,\n",
    "                         yerr=eos['dP'][sel] / eos['rho'][sel] / nk_GPa / t,\n",
    "                         fmt=colors[t] + '-',\n",
    "                         label=\"{} K\".format(t))\n",
    "    axpress.legend(loc='best')\n",
    "    P.show()"
   ]
  },
  {
   "cell_type": "markdown",
   "metadata": {},
   "source": [
    "Ex 3: Le problème du voyageur de commerce\n",
    "\n",
    "Le problème du voyageur de commerce est un problème d’optimisation consistant à déterminer le plus court chemin reliant un ensemble de destinations. Il n’existe pas d’algorithme donnant la solution optimale en un temps raisonnable (problème NP-complet), mais l’on peut chercher à déterminer des solutions approchées. On va se placer ici dans le cas d’un livreur devant desservir une seule fois chacune desndestinations d’une ville américaine où les rues sont agencées en réseau carré. \n",
    "\n",
    "On utilise la « distance deManhattan »  entre deux points 𝐴(𝑥𝐴,𝑦𝐴) et 𝐵(𝑥𝐵,𝑦𝐵) : 𝑑(𝐴,𝐵) =|𝑥𝐵−𝑥𝐴|+|𝑦𝐵−𝑦𝐴|.\n",
    "\n",
    "En outre, on se place dans le cas où les coordonnées des destinations sont entières, comprises entre 0 (inclus) et TAILLE = 50 (exclus). Deux destinations peuvent éventuellement avoir les mêmes coordonnées. Les instructions suivantes doivent permettre de définir les classes nécessaires (Ville et Trajet) et de développer un algorithme approché (heuristiques) : l’algorithme du plus proche voisin. \n",
    "\n",
    "Seules la librairie standard et la librairie numpy sont utilisables si nécessaire. Implementer les classes et methodes suivante:\n",
    "\n",
    "\n",
    "Classe Ville:\n",
    "* __init__(): initialisation d’une ville sans destination.\n",
    "* aleatoire(n): création de n destinations aléatoires.\n",
    "* nb_trajet(): retourne le nombre total (entier) de trajets :(𝑛−1)!/2(utilisermath.factorial()).\n",
    "* distance(i, j): retourne la distance (Manhattan) entre les deux destinations de numéro i et j\n",
    "\n",
    "\n",
    "Classe Trajet:\n",
    "* __init__(ville, etapes=None): initialisation sur une ville. Si la liste etapes n’est pas spécifiée, le trajet par défaut est celui suivant les destinations de ville.\n",
    "* longueur(): retourne la longueur totale du trajetbouclé(i.e. revenant à son point de départ).\n",
    "\n",
    "\n",
    "Plus proche voisin:\n",
    "* Ville.plus_proche(i, exclus=[]): retourne la destination la plus proche de la destinationi(au sens de Ville.distance()), hors les destinations de la liste exclus\n",
    "* Ville.trajet_voisins(depart=0): retourne un Trajet déterminé selon l’heuristique des plus proches voisins (i.e. l’étape suivante est la destination la plus proche hors les destinations déjà visitées) en partant de l’étape initiale depart\n",
    "\n",
    "Optimisation:\n",
    "* Proposer un algorithme qui propose une meilleur alternative au \"plus proche voisin\".\n",
    "\n",
    "Interface:\n",
    "* Ville.figure(trajet=None): Afficher le plande la ville et le trajet obtenue (utiliser matplotlib.step()pour des trajets de type « Manhattan »)"
   ]
  },
  {
   "cell_type": "code",
   "execution_count": 5,
   "metadata": {},
   "outputs": [
    {
     "ename": "NameError",
     "evalue": "name 'x' is not defined",
     "output_type": "error",
     "traceback": [
      "\u001b[1;31m---------------------------------------------------------------------------\u001b[0m",
      "\u001b[1;31mNameError\u001b[0m                                 Traceback (most recent call last)",
      "\u001b[1;32m<ipython-input-5-14b92625ce9f>\u001b[0m in \u001b[0;36m<module>\u001b[1;34m\u001b[0m\n\u001b[1;32m----> 1\u001b[1;33m \u001b[0mordre\u001b[0m \u001b[1;33m=\u001b[0m \u001b[0mlist\u001b[0m\u001b[1;33m(\u001b[0m\u001b[0mrange\u001b[0m\u001b[1;33m(\u001b[0m\u001b[0mlen\u001b[0m\u001b[1;33m(\u001b[0m\u001b[0mx\u001b[0m\u001b[1;33m)\u001b[0m\u001b[1;33m)\u001b[0m\u001b[1;33m)\u001b[0m\u001b[1;33m\u001b[0m\u001b[1;33m\u001b[0m\u001b[0m\n\u001b[0m\u001b[0;32m      2\u001b[0m \u001b[0mprint\u001b[0m\u001b[1;33m(\u001b[0m\u001b[1;34m\"longueur initiale\"\u001b[0m\u001b[1;33m,\u001b[0m \u001b[0mlongueur\u001b[0m\u001b[1;33m(\u001b[0m\u001b[0mx\u001b[0m\u001b[1;33m,\u001b[0m\u001b[0my\u001b[0m\u001b[1;33m,\u001b[0m\u001b[0mordre\u001b[0m\u001b[1;33m)\u001b[0m\u001b[1;33m)\u001b[0m\u001b[1;33m\u001b[0m\u001b[1;33m\u001b[0m\u001b[0m\n\u001b[0;32m      3\u001b[0m \u001b[1;33m\u001b[0m\u001b[0m\n\u001b[0;32m      4\u001b[0m \u001b[1;32mdef\u001b[0m \u001b[0mpermutation_rnd\u001b[0m\u001b[1;33m(\u001b[0m\u001b[0mx\u001b[0m\u001b[1;33m,\u001b[0m\u001b[0my\u001b[0m\u001b[1;33m,\u001b[0m\u001b[0mordre\u001b[0m\u001b[1;33m,\u001b[0m\u001b[0mminiter\u001b[0m\u001b[1;33m)\u001b[0m\u001b[1;33m:\u001b[0m\u001b[1;33m\u001b[0m\u001b[1;33m\u001b[0m\u001b[0m\n\u001b[0;32m      5\u001b[0m     \u001b[0md\u001b[0m  \u001b[1;33m=\u001b[0m \u001b[0mlongueur\u001b[0m\u001b[1;33m(\u001b[0m\u001b[0mx\u001b[0m\u001b[1;33m,\u001b[0m\u001b[0my\u001b[0m\u001b[1;33m,\u001b[0m\u001b[0mordre\u001b[0m\u001b[1;33m)\u001b[0m\u001b[1;33m\u001b[0m\u001b[1;33m\u001b[0m\u001b[0m\n",
      "\u001b[1;31mNameError\u001b[0m: name 'x' is not defined"
     ]
    }
   ],
   "source": []
  },
  {
   "cell_type": "code",
   "execution_count": 1,
   "metadata": {},
   "outputs": [
    {
     "data": {
      "text/plain": [
       "[<matplotlib.lines.Line2D at 0x1eaca18d148>]"
      ]
     },
     "execution_count": 1,
     "metadata": {},
     "output_type": "execute_result"
    },
    {
     "data": {
      "image/png": "[encoded data removed]",
      "text/plain": [
       "<Figure size 432x288 with 1 Axes>"
      ]
     },
     "metadata": {
      "needs_background": "light"
     },
     "output_type": "display_data"
    }
   ],
   "source": [
    "# Exercice3\n",
    "import random\n",
    "n = 30\n",
    "x = [ random.random() for _ in range(n) ]\n",
    "y = [ random.random() for _ in range(n) ]\n",
    "import matplotlib.pyplot as plt\n",
    "plt.plot(x,y,\"o\")"
   ]
  },
  {
   "cell_type": "code",
   "execution_count": 2,
   "metadata": {},
   "outputs": [
    {
     "name": "stdout",
     "output_type": "stream",
     "text": [
      "longueur initiale 14.125477380749311\n",
      "iteration 2 d= 14.125477380749311\n",
      "iteration 3 d= 2.7178639057655705\n",
      "iteration 4 d= 1.4483955761246405\n",
      "iteration 5 d= 1.0133347056566175\n",
      "iteration 6 d= 0.9813178265619666\n",
      "iteration 7 d= 0.9690909264280948\n",
      "longueur min 0.9690909264280948\n"
     ]
    },
    {
     "data": {
      "text/plain": [
       "[<matplotlib.lines.Line2D at 0x1eaca258548>]"
      ]
     },
     "execution_count": 2,
     "metadata": {},
     "output_type": "execute_result"
    },
    {
     "data": {
      "image/png": "[encoded data removed]",
      "text/plain": [
       "<Figure size 432x288 with 1 Axes>"
      ]
     },
     "metadata": {
      "needs_background": "light"
     },
     "output_type": "display_data"
    }
   ],
   "source": [
    "def longueur (x,y, ordre):\n",
    "    i = ordre[-1]\n",
    "    x0,y0 = x[i], y[i]\n",
    "    d = 0\n",
    "    for o in ordre:\n",
    "        x1,y1 = x[o], y[o]\n",
    "        d += (x0-x1)**2 + (y0-y1)**2\n",
    "        x0,y0 = x1,y1\n",
    "    return d\n",
    "\n",
    "ordre = list(range(len(x)))\n",
    "print(\"longueur initiale\", longueur(x,y,ordre))\n",
    "\n",
    "def permutation(x,y,ordre):\n",
    "    d  = longueur(x,y,ordre)\n",
    "    d0 = d+1\n",
    "    it = 1\n",
    "    while d < d0 :\n",
    "        it += 1\n",
    "        print(\"iteration\",it, \"d=\",d)\n",
    "        d0 = d\n",
    "        for i in range(0,len(ordre)-1) :\n",
    "            for j in range(i+2,len(ordre)):\n",
    "                r = ordre[i:j].copy()\n",
    "                r.reverse()\n",
    "                ordre2 = ordre[:i] + r + ordre[j:]\n",
    "                t = longueur(x,y,ordre2)\n",
    "                if t < d :\n",
    "                    d = t\n",
    "                    ordre = ordre2\n",
    "    return ordre\n",
    "\n",
    "ordre = permutation (x,y,list(range(len(x))))\n",
    "print(\"longueur min\", longueur(x,y,ordre))\n",
    "xo = [ x[o] for o in ordre + [ordre[0]]]\n",
    "yo = [ y[o] for o in ordre + [ordre[0]]]\n",
    "plt.plot(xo,yo, \"o-\")"
   ]
  },
  {
   "cell_type": "code",
   "execution_count": 3,
   "metadata": {},
   "outputs": [
    {
     "name": "stdout",
     "output_type": "stream",
     "text": [
      "longueur initiale 13.775943226240377\n",
      "iteration 2 d= 13.775943226240377\n",
      "iteration 3 d= 1.5118987174953564\n",
      "iteration 4 d= 0.9307753187717464\n",
      "iteration 5 d= 0.7873457316916294\n",
      "longueur min 0.7873457316916294\n"
     ]
    },
    {
     "data": {
      "text/plain": [
       "[<matplotlib.lines.Line2D at 0x1eaca2bf3c8>]"
      ]
     },
     "execution_count": 3,
     "metadata": {},
     "output_type": "execute_result"
    },
    {
     "data": {
      "image/png": "[encoded data removed]",
      "text/plain": [
       "<Figure size 432x288 with 1 Axes>"
      ]
     },
     "metadata": {
      "needs_background": "light"
     },
     "output_type": "display_data"
    }
   ],
   "source": [
    "def longueur (x,y, ordre):\n",
    "   \n",
    "    d = 0\n",
    "    for i in range(1,len(ordre)):\n",
    "        n = ordre[i-1]\n",
    "        o = ordre[i]\n",
    "        x0,y0 = x[n], y[n]\n",
    "        x1,y1 = x[o], y[o]\n",
    "        d += (x0-x1)**2 + (y0-y1)**2\n",
    "    return d\n",
    "\n",
    "ordre = list(range(len(x)))\n",
    "print(\"longueur initiale\", longueur(x,y,ordre))\n",
    "\n",
    "ordre = permutation (x,y,list(range(len(x))))\n",
    "print(\"longueur min\", longueur(x,y,ordre))\n",
    "xo = [ x[o] for o in ordre]\n",
    "yo = [ y[o] for o in ordre]\n",
    "plt.plot(xo,yo, \"o-\")"
   ]
  },
  {
   "cell_type": "code",
   "execution_count": 4,
   "metadata": {},
   "outputs": [
    {
     "name": "stdout",
     "output_type": "stream",
     "text": [
      "longueur initiale 0.7873457316916294\n",
      "iteration 0 d= 13.775943226240377\n",
      "iteration 1 d= 1.0127490251320883\n",
      "iteration 2 d= 0.8685081435840512\n",
      "iteration 3 d= 0.8685081435840512\n",
      "iteration 4 d= 0.8685081435840512\n",
      "iteration 5 d= 0.8685081435840512\n",
      "iteration 6 d= 0.8685081435840512\n",
      "iteration 7 d= 0.8685081435840512\n",
      "iteration 8 d= 0.8685081435840512\n",
      "iteration 9 d= 0.8685081435840512\n",
      "iteration 10 d= 0.8507573310668517\n",
      "iteration 11 d= 0.8507573310668517\n",
      "iteration 12 d= 0.8507573310668517\n",
      "iteration 13 d= 0.8277528981265141\n",
      "iteration 14 d= 0.8277528981265141\n",
      "iteration 15 d= 0.8277528981265141\n",
      "iteration 16 d= 0.8277528981265141\n",
      "iteration 17 d= 0.8277528981265141\n",
      "iteration 18 d= 0.8277528981265141\n",
      "iteration 19 d= 0.8277528981265141\n",
      "longueur min 0.8277528981265141\n"
     ]
    },
    {
     "data": {
      "text/plain": [
       "Text(0.5882448003436516, 0.7264553128920406, 'N-1')"
      ]
     },
     "execution_count": 4,
     "metadata": {},
     "output_type": "execute_result"
    },
    {
     "data": {
      "image/png": "[encoded data removed]",
      "text/plain": [
       "<Figure size 432x288 with 1 Axes>"
      ]
     },
     "metadata": {
      "needs_background": "light"
     },
     "output_type": "display_data"
    }
   ],
   "source": [
    "print(\"longueur initiale\", longueur(x,y,ordre))\n",
    "\n",
    "def permutation_rnd(x,y,ordre,miniter):\n",
    "    d  = longueur(x,y,ordre)\n",
    "    d0 = d+1\n",
    "    it = 1\n",
    "    while d < d0 or it < miniter :\n",
    "        it += 1\n",
    "        d0 = d\n",
    "        for i in range(1,len(ordre)-1) :\n",
    "            for j in range(i+2,len(ordre)+ 1):\n",
    "                k = random.randint(1,len(ordre)-1)\n",
    "                l = random.randint(k+1,len(ordre))\n",
    "                r = ordre[k:l].copy()\n",
    "                r.reverse()\n",
    "                ordre2 = ordre[:k] + r + ordre[l:]\n",
    "                t = longueur(x,y,ordre2)\n",
    "                if t < d :\n",
    "                    d = t\n",
    "                    ordre = ordre2\n",
    "    return ordre\n",
    "\n",
    "def n_permutation(x,y, miniter):\n",
    "    ordre = list(range(len(x)))\n",
    "    bordre = ordre.copy()\n",
    "    d0 = longueur(x,y,ordre)\n",
    "    for i in range(0,20):\n",
    "        print(\"iteration\",i, \"d=\",d0)\n",
    "        random.shuffle(ordre)\n",
    "        ordre = permutation_rnd (x,y,ordre, 20)\n",
    "        d = longueur(x,y,ordre)\n",
    "        if d < d0 :\n",
    "            d0 = d\n",
    "            bordre = ordre.copy()\n",
    "    return bordre\n",
    "\n",
    "ordre = n_permutation (x,y, 20)\n",
    "print(\"longueur min\", longueur(x,y,ordre))\n",
    "xo = [ x[o] for o in ordre + [ordre[0]]]\n",
    "yo = [ y[o] for o in ordre + [ordre[0]]]\n",
    "plt.plot(xo,yo, \"o-\")\n",
    "plt.text(xo[0],yo[0],\"0\",color=\"r\",weight=\"bold\",size=\"x-large\")\n",
    "plt.text(xo[-2],yo[-2],\"N-1\",color=\"r\",weight=\"bold\",size=\"x-large\")"
   ]
  },
  {
   "cell_type": "code",
   "execution_count": null,
   "metadata": {},
   "outputs": [],
   "source": []
  }
 ],
 "metadata": {
  "kernelspec": {
   "display_name": "Python 3",
   "language": "python",
   "name": "python3"
  },
  "language_info": {
   "codemirror_mode": {
    "name": "ipython",
    "version": 3
   },
   "file_extension": ".py",
   "mimetype": "text/x-python",
   "name": "python",
   "nbconvert_exporter": "python",
   "pygments_lexer": "ipython3",
   "version": "3.7.6"
  }
 },
 "nbformat": 4,
 "nbformat_minor": 4
}
